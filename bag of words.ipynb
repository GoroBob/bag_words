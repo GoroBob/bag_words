{
 "cells": [
  {
   "cell_type": "code",
   "execution_count": null,
   "metadata": {
    "collapsed": true
   },
   "outputs": [],
   "source": [
    "# Bag of Words\n",
    "\n",
    "# Following the book \"Python Machine Learning\" of Raschka, to make the\n",
    "# Bag of words algorithm"
   ]
  },
  {
   "cell_type": "code",
   "execution_count": 47,
   "metadata": {
    "collapsed": true
   },
   "outputs": [],
   "source": [
    "#The idea is to make a words counter in a .txt text\n",
    "import re\n",
    "import math\n",
    "\n",
    "def wordcounter(doc):\n",
    "    splitter=re.compile('\\\\W*');\n",
    "    #split the words by non-alpha characters\n",
    "    words=[s.lower() for s in splitter.split(doc)];\n",
    "    \n",
    "    #Resturn the unique set of words\n",
    "\n",
    "    counter=dict([(w,0) for w in words]);\n",
    "    for w in words:\n",
    "        counter[w]+=1;\n",
    "    \n",
    "    return counter "
   ]
  },
  {
   "cell_type": "code",
   "execution_count": 40,
   "metadata": {
    "collapsed": false
   },
   "outputs": [],
   "source": [
    "words_vector=[]\n",
    "\n",
    "# words is a dictionay that came from getwords() up here\n",
    "def add_words_vector(words):\n",
    "    temp=words\n",
    "    temp1=temp.keys()\n",
    "    for w in temp1:\n",
    "        if ((w in words_vector)==False):\n",
    "            words_vector.append(w)\n",
    "    return words_vector\n",
    "\n",
    "def vector(words,words_v):\n",
    "    vector=[0]*len(words_v)\n",
    "    for i in range(len(words_v)):\n",
    "        if (words_v[i] in words):\n",
    "            vector[i]=words[words_v[i]]\n",
    "    return vector_res\n",
    "    "
   ]
  },
  {
   "cell_type": "code",
   "execution_count": 25,
   "metadata": {
    "collapsed": false
   },
   "outputs": [],
   "source": [
    "pepe1=\"Now we've seen that re.search() will take the pattern, scan the text, and then returns a Match object. If no pattern is found, a None is returned. To give a clearer picture of this match object, check out the cell below\""
   ]
  },
  {
   "cell_type": "code",
   "execution_count": 26,
   "metadata": {
    "collapsed": false
   },
   "outputs": [],
   "source": [
    "pepe2=\"El sitio del señor portilla para el bootcamp es\""
   ]
  },
  {
   "cell_type": "code",
   "execution_count": 52,
   "metadata": {
    "collapsed": false
   },
   "outputs": [
    {
     "name": "stderr",
     "output_type": "stream",
     "text": [
      "/Users/borisca/anaconda/envs/python3/lib/python3.5/site-packages/ipykernel/__main__.py:8: FutureWarning: split() requires a non-empty pattern match.\n"
     ]
    }
   ],
   "source": [
    "wor=wordcounter(pepe1)\n",
    "w_vectors=add_words_vector(wor)"
   ]
  },
  {
   "cell_type": "code",
   "execution_count": 54,
   "metadata": {
    "collapsed": false
   },
   "outputs": [
    {
     "name": "stderr",
     "output_type": "stream",
     "text": [
      "/Users/borisca/anaconda/envs/python3/lib/python3.5/site-packages/ipykernel/__main__.py:8: FutureWarning: split() requires a non-empty pattern match.\n"
     ]
    },
    {
     "data": {
      "text/plain": [
       "[2,\n",
       " 1,\n",
       " 1,\n",
       " 1,\n",
       " 1,\n",
       " 1,\n",
       " 1,\n",
       " 1,\n",
       " 0,\n",
       " 0,\n",
       " 0,\n",
       " 0,\n",
       " 0,\n",
       " 0,\n",
       " 0,\n",
       " 0,\n",
       " 0,\n",
       " 0,\n",
       " 0,\n",
       " 0,\n",
       " 0,\n",
       " 0,\n",
       " 0,\n",
       " 0,\n",
       " 0,\n",
       " 0,\n",
       " 0,\n",
       " 0,\n",
       " 0,\n",
       " 0,\n",
       " 0,\n",
       " 0,\n",
       " 0,\n",
       " 0,\n",
       " 0,\n",
       " 0,\n",
       " 0,\n",
       " 0,\n",
       " 0,\n",
       " 0,\n",
       " 0,\n",
       " 0,\n",
       " 0]"
      ]
     },
     "execution_count": 54,
     "metadata": {},
     "output_type": "execute_result"
    }
   ],
   "source": [
    "wor=wordcounter(pepe2)\n",
    "v_res=vector(wor,w_vectors)\n",
    "v_res\n"
   ]
  },
  {
   "cell_type": "code",
   "execution_count": 42,
   "metadata": {
    "collapsed": false
   },
   "outputs": [
    {
     "data": {
      "text/plain": [
       "<function __main__.vector>"
      ]
     },
     "execution_count": 42,
     "metadata": {},
     "output_type": "execute_result"
    }
   ],
   "source": [
    "vector"
   ]
  },
  {
   "cell_type": "code",
   "execution_count": null,
   "metadata": {
    "collapsed": true
   },
   "outputs": [],
   "source": []
  }
 ],
 "metadata": {
  "kernelspec": {
   "display_name": "Python 3",
   "language": "python",
   "name": "python3"
  },
  "language_info": {
   "codemirror_mode": {
    "name": "ipython",
    "version": 3
   },
   "file_extension": ".py",
   "mimetype": "text/x-python",
   "name": "python",
   "nbconvert_exporter": "python",
   "pygments_lexer": "ipython3",
   "version": "3.5.3"
  }
 },
 "nbformat": 4,
 "nbformat_minor": 2
}
